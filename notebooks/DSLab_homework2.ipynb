{
 "cells": [
  {
   "cell_type": "markdown",
   "metadata": {},
   "source": [
    "# Homework 2 - Data Wrangling with Hadoop\n",
    "\n",
    "The goal of this assignment is to put into action the data wrangling techniques from the exercises of week-3 and week-4. We highly suggest you to finish these two exercises first and then start the homework. In this homework, we are going to reuse the same __sbb__ and __twitter__ datasets as seen before in these two exercises. \n",
    "\n",
    "## Hand-in Instructions\n",
    "- __Due: 13.04.2021 23:59 CET__\n",
    "- `git push` your final verion to your group's Renku repository before the due date\n",
    "- Verify that `Dockerfile`, `environment.yml` and `requirements.txt` are properly written and notebook is functional\n",
    "- Add necessary comments and discussion to make your queries readable\n",
    "\n",
    "## Hive Documentation\n",
    "\n",
    "Hive queries: <https://cwiki.apache.org/confluence/display/Hive/LanguageManual+Select>\n",
    "\n",
    "Hive functions: <https://cwiki.apache.org/confluence/display/Hive/LanguageManual+UDF>"
   ]
  },
  {
   "cell_type": "markdown",
   "metadata": {},
   "source": [
    "<div style=\"font-size: 150%\" class=\"alert alert-block alert-warning\">\n",
    "    <b>Get yourself ready:</b> \n",
    "    <br>\n",
    "    Before you jump into the questions, please first go through the notebook <a href='./prepare_env.ipynb'>prepare_env.ipynb</a> and make sure that your environment is properly set up.\n",
    "    <br><br>\n",
    "    <b>Cluster Usage:</b>\n",
    "    <br>\n",
    "    As there are many of you working with the cluster, we encourage you to prototype your queries on small data samples before running them on whole datasets.\n",
    "    <br><br>\n",
    "    <b>Try to use as much HiveQL as possible and avoid using pandas operations.</b>\n",
    "</div>"
   ]
  },
  {
   "cell_type": "markdown",
   "metadata": {},
   "source": [
    "## Part I: SBB/CFF/FFS Data (40 Points)\n",
    "\n",
    "Data source: <https://opentransportdata.swiss/en/dataset/istdaten>\n",
    "\n",
    "In this part, you will leverage Hive to perform exploratory analysis of data published by the [Open Data Platform Swiss Public Transport](https://opentransportdata.swiss).\n",
    "\n",
    "Format: the dataset is originally presented as a collection of textfiles with fields separated by ';' (semi-colon). For efficiency, the textfiles have been compressed into Optimized Row Columnar ([ORC](https://cwiki.apache.org/confluence/display/Hive/LanguageManual+ORC)) file format. \n",
    "\n",
    "Location: you can find the data in ORC format on HDFS at the path `/data/sbb/orc/istdaten`.\n",
    "\n",
    "The full description from opentransportdata.swiss can be found in <https://opentransportdata.swiss/de/cookbook/ist-daten/> in four languages. Because of the translation typos there may be some misunderstandings. We suggest you rely on the German version and use an automated translator when necessary. We will clarify if there is still anything unclear in class and Slack. Here are the relevant column descriptions:\n",
    "\n",
    "- `BETRIEBSTAG`: date of the trip\n",
    "- `FAHRT_BEZEICHNER`: identifies the trip\n",
    "- `BETREIBER_ABK`, `BETREIBER_NAME`: operator (name will contain the full name, e.g. Schweizerische Bundesbahnen for SBB)\n",
    "- `PRODUKT_ID`: type of transport, e.g. train, bus\n",
    "- `LINIEN_ID`: for trains, this is the train number\n",
    "- `LINIEN_TEXT`,`VERKEHRSMITTEL_TEXT`: for trains, the service type (IC, IR, RE, etc.)\n",
    "- `ZUSATZFAHRT_TF`: boolean, true if this is an additional trip (not part of the regular schedule)\n",
    "- `FAELLT_AUS_TF`: boolean, true if this trip failed (cancelled or not completed)\n",
    "- `HALTESTELLEN_NAME`: name of the stop\n",
    "- `ANKUNFTSZEIT`: arrival time at the stop according to schedule\n",
    "- `AN_PROGNOSE`: actual arrival time\n",
    "- `AN_PROGNOSE_STATUS`: show how the actual arrival time is calcluated\n",
    "- `ABFAHRTSZEIT`: departure time at the stop according to schedule\n",
    "- `AB_PROGNOSE`: actual departure time\n",
    "- `AB_PROGNOSE_STATUS`: show how the actual departure time is calcluated\n",
    "- `DURCHFAHRT_TF`: boolean, true if the transport does not stop there\n",
    "\n",
    "Each line of the file represents a stop and contains arrival and departure times. When the stop is the start or end of a journey, the corresponding columns will be empty (`ANKUNFTSZEIT`/`ABFAHRTSZEIT`).\n",
    "\n",
    "In some cases, the actual times were not measured so the `AN_PROGNOSE_STATUS`/`AB_PROGNOSE_STATUS` will be empty or set to `PROGNOSE` and `AN_PROGNOSE`/`AB_PROGNOSE` will be empty."
   ]
  },
  {
   "cell_type": "markdown",
   "metadata": {},
   "source": [
    "__Initialization__"
   ]
  },
  {
   "cell_type": "code",
   "execution_count": 1,
   "metadata": {},
   "outputs": [
    {
     "name": "stdout",
     "output_type": "stream",
     "text": [
      "Operating as: mezghani\n"
     ]
    }
   ],
   "source": [
    "import os\n",
    "import pandas as pd\n",
    "pd.set_option(\"display.max_columns\", 50)\n",
    "import matplotlib.pyplot as plt\n",
    "%matplotlib inline\n",
    "import plotly.express as px\n",
    "import plotly.graph_objects as go\n",
    "\n",
    "username = os.environ['JUPYTERHUB_USER']\n",
    "hiveaddr = os.environ['HIVE_SERVER_2']\n",
    "print(\"Operating as: {0}\".format(username))"
   ]
  },
  {
   "cell_type": "code",
   "execution_count": 2,
   "metadata": {},
   "outputs": [],
   "source": [
    "from pyhive import hive\n",
    "\n",
    "# create connection\n",
    "conn = hive.connect(host=hiveaddr, \n",
    "                    port=10000,\n",
    "                    username=username) \n",
    "# create cursor\n",
    "cur = conn.cursor()"
   ]
  },
  {
   "cell_type": "markdown",
   "metadata": {},
   "source": [
    "### a) Type of transport - 10/40\n",
    "\n",
    "In the exercise of week-3, you have already explored the stop distribution of different types of transport on 05.11.2018. Now, let's do the same for the whole dataset.\n",
    "\n",
    "- Query `sbb_orc` to get the total number of stops for different types of transport in each month, and order it by time and type of transport.\n",
    "|month_year|ttype|stops|\n",
    "|---|---|---|\n",
    "|...|...|...|\n",
    "- Use `plotly` to create a facet bar chart partitioned by the type of transportation. \n",
    "- Document any patterns or abnormalities you can find.\n",
    "\n",
    "__Note__: \n",
    "- In general, one entry in the `sbb_orc` table means one stop.\n",
    "- You might need to filter out the rows where:\n",
    "    - `BETRIEBSTAG` is not in the format of `__.__.____`\n",
    "    - `PRODUKT_ID` is NULL or empty\n",
    "- Facet plot with plotly: https://plotly.com/python/facet-plots/"
   ]
  },
  {
   "cell_type": "code",
   "execution_count": null,
   "metadata": {},
   "outputs": [],
   "source": [
    "# You may need more than one query, do not hesitate to create more\n",
    "# query = \"\"\"\n",
    "#\n",
    "#     /* TODO */\n",
    "#\n",
    "# \"\"\"\n",
    "# cur.execute(query, conn)\n",
    "\n",
    "query = \"\"\"\n",
    "\n",
    "    /* TODO */\n",
    "    \n",
    "\"\"\".format(username)\n",
    "df_ttype = pd.read_sql(query, conn)"
   ]
  },
  {
   "cell_type": "code",
   "execution_count": null,
   "metadata": {},
   "outputs": [],
   "source": [
    "fig = px.bar(\n",
    "    df_ttype,\n",
    "    \n",
    "    # TODO\n",
    ")\n",
    "\n",
    "# TODO: make your figure more readable\n",
    "\n",
    "fig.show()"
   ]
  },
  {
   "cell_type": "markdown",
   "metadata": {},
   "source": [
    "### b) Schedule - 10/40\n",
    "\n",
    "- Select a typical week day (not Saturday, not Sunday, not a bank holiday) from `sbb_orc`. Query the one-day table and get the set of IC (`VERKEHRSMITTEL_TEXT`) trains you can take to go (without connections) from Genève to Lausanne on that day. \n",
    "- Display the train number (`LINIEN_ID`) as well as the schedule (arrival and departure time) of the trains.\n",
    "\n",
    "|train_number|departure|arrival|\n",
    "|---|---|---|\n",
    "|...|...|...|\n",
    "\n",
    "__Note:__ \n",
    "- The schedule of IC from Genève to Lausanne has not changed for the past few years. You can use the advanced search of SBB's website to check your answer.\n",
    "- Do not hesitate to create intermediary tables. \n",
    "- You might need to add filters on these flags: `ZUSATZFAHRT_TF`, `FAELLT_AUS_TF`, `DURCHFAHRT_TF` \n",
    "- Functions that could be useful: `unix_timestamp`, `to_utc_timestamp`, `date_format`."
   ]
  },
  {
   "cell_type": "code",
   "execution_count": null,
   "metadata": {},
   "outputs": [],
   "source": [
    "query = \"\"\"\n",
    "    with Geneva as(\n",
    "        select FAHRT_BEZEICHNER as id,\n",
    "               LINIEN_ID as train_number,\n",
    "               from_unixtime(unix_timestamp(ABFAHRTSZEIT, 'dd.MM.yyy HH:mm'), 'HH:mm') as departure\n",
    "        from {0}.sbb_orc\n",
    "        where HALTESTELLEN_NAME = \"Genève\"\n",
    "          and PRODUKT_ID = \"Zug\"\n",
    "          and VERKEHRSMITTEL_TEXT = \"IC\"\n",
    "          and BETRIEBSTAG = \"18.02.2020\"\n",
    "          and DURCHFAHRT_TF = \"false\"\n",
    "          and ZUSATZFAHRT_TF = \"false\"\n",
    "          and FAELLT_AUS_TF = \"false\"\n",
    "    ),\n",
    "    Lausanne as(\n",
    "        select FAHRT_BEZEICHNER as id,\n",
    "               LINIEN_ID as train_number,\n",
    "               from_unixtime(unix_timestamp(ANKUNFTSZEIT, 'dd.MM.yyy HH:mm'), 'HH:mm') as arrival\n",
    "        from {0}.sbb_orc\n",
    "        where HALTESTELLEN_NAME = \"Lausanne\"\n",
    "          and PRODUKT_ID = \"Zug\"\n",
    "          and VERKEHRSMITTEL_TEXT = \"IC\"\n",
    "          and BETRIEBSTAG = \"18.02.2020\"\n",
    "          and DURCHFAHRT_TF = \"false\"\n",
    "          and ZUSATZFAHRT_TF = \"false\"\n",
    "          and FAELLT_AUS_TF = \"false\"\n",
    "    )\n",
    "    select Geneva.train_number as train_number, Geneva.departure as departure, Lausanne.arrival as arrival\n",
    "    from Geneva\n",
    "    inner join Lausanne on Geneva.id = Lausanne.id\n",
    "    where departure < arrival\n",
    "\"\"\".format(username)\n",
    "pd.read_sql(query, conn)"
   ]
  },
  {
   "cell_type": "markdown",
   "metadata": {},
   "source": [
    "### c) Delay percentiles - 10/40\n",
    "\n",
    "- Query `sbb_orc` to compute the 50th and 75th percentiles of __arrival__ delays for IC 702, 704, ..., 728, 730 (15 trains total) at Genève main station. \n",
    "- Use `plotly` to plot your results in a proper way. \n",
    "- Which trains are the most disrupted? Can you find the tendency and interpret?\n",
    "\n",
    "__Note:__\n",
    "- Do not hesitate to create intermediary tables. \n",
    "- When the train is ahead of schedule, count this as a delay of 0.\n",
    "- Use only stops with `AN_PROGNOSE_STATUS` equal to __REAL__ or __GESCHAETZT__.\n",
    "- Functions that may be useful: `unix_timestamp`, `percentile_approx`, `if`"
   ]
  },
  {
   "cell_type": "code",
   "execution_count": null,
   "metadata": {},
   "outputs": [],
   "source": [
    "query = \"\"\"\n",
    "    with Arrivals as(\n",
    "        select LINIEN_ID as id, \n",
    "               unix_timestamp(ANKUNFTSZEIT, 'dd.MM.yyy HH:mm') as expected, \n",
    "               unix_timestamp(AN_PROGNOSE, 'dd.MM.yyy HH:mm:ss') as actual\n",
    "        from {0}.sbb_orc\n",
    "        where PRODUKT_ID = \"Zug\" \n",
    "          and HALTESTELLEN_NAME = \"Genève\"\n",
    "          and VERKEHRSMITTEL_TEXT like \"%IC%\" \n",
    "          and LINIEN_ID between 702 and 730\n",
    "          and LINIEN_ID % 2 = 0\n",
    "          and (AN_PROGNOSE_STATUS = \"REAL\" or AN_PROGNOSE_STATUS = \"GESCHAETZT\")\n",
    "    )\n",
    "    select id,\n",
    "           percentile_approx(if(expected < actual, actual - expected, 0), 0.5) as 50th,\n",
    "           percentile_approx(if(expected < actual, actual - expected, 0), 0.75) as 75th\n",
    "    from Arrivals\n",
    "    group by id\n",
    "    order by 75th desc\n",
    "\"\"\".format(username)\n",
    "df_delays_ic_gen = pd.read_sql(query, conn)"
   ]
  },
  {
   "cell_type": "code",
   "execution_count": null,
   "metadata": {},
   "outputs": [],
   "source": [
    "df_delays_ic_gen"
   ]
  },
  {
   "cell_type": "code",
   "execution_count": null,
   "metadata": {},
   "outputs": [],
   "source": [
    "fig = go.Figure(data=[\n",
    "    go.Bar(name='50th percentile', x=\"IC \" + df_delays_ic_gen['id'], y=df_delays_ic_gen['50th'], text=df_delays_ic_gen['50th']),\n",
    "    go.Bar(name='75th percentile', x=\"IC \" + df_delays_ic_gen['id'], y=df_delays_ic_gen['75th'], text=df_delays_ic_gen['75th'])\n",
    "])\n",
    "\n",
    "fig.update_traces(textposition='outside', textangle=-45)\n",
    "\n",
    "fig.update_layout(autosize=False,\n",
    "                  width=1500,\n",
    "                  height=500,\n",
    "                  barmode='group',\n",
    "                  title=dict(x=0.5, xanchor='center', text='Delay percentiles for IC 702, 704, ..., 728, 730.'),\n",
    "                  xaxis_title=\"Train\",\n",
    "                  yaxis_range=[0, 160],\n",
    "                  yaxis_title=\"Delay in sec\",\n",
    "                  legend=dict(title_text='<b>Percentiles'))\n",
    "fig.show()"
   ]
  },
  {
   "cell_type": "markdown",
   "metadata": {},
   "source": [
    "**We observe that the train having the largest 50th percentile is IC726, then IC708. Whereas the trains with the largest 75th percentile are IC708, then IC706, IC728 and IC730. The trains having large 75th percentiles despite having 0as 50th percentile represent trains that have relatively larger tail distributions compared to other trains. Indeed, such events can be modeled by power laws, thus it is expected to have such large percentiles.**"
   ]
  },
  {
   "cell_type": "markdown",
   "metadata": {},
   "source": [
    "### d) Delay heatmap 10/40\n",
    "\n",
    "- For each week (1 to 52) of each year (2018 to 2020), query `sbb_orc` to compute the median of delays of all trains __departing__ from any train stations in Zürich area during that week. \n",
    "- Use `plotly` to draw a heatmap (year x week) of the median delays. \n",
    "- In which weeks were the trains delayed the most/least? Can you explain the results?\n",
    "\n",
    "__Note:__\n",
    "- Do not hesitate to create intermediary tables. \n",
    "- When the train is ahead of schedule, count this as a delay of 0.\n",
    "- Use only stops with `AB_PROGNOSE_STATUS` equal to __REAL__ or __GESCHAETZT__.\n",
    "- For simplicty, a train station in Zürich area <=> it's a train station & its `HALTESTELLEN_NAME` starts with __Zürich__.\n",
    "- Heatmap with `plotly`: https://plotly.com/python/heatmaps/\n",
    "- Functions that may be useful: `unix_timestamp`, `from_unixtime`, `weekofyear`, `percentile_approx`, `if`"
   ]
  },
  {
   "cell_type": "code",
   "execution_count": null,
   "metadata": {},
   "outputs": [],
   "source": [
    "# You may need more than one query, do not hesitate to create more\n",
    "# query = \"\"\"\n",
    "#\n",
    "#     /* TODO */\n",
    "#\n",
    "# \"\"\"\n",
    "# cur.execute(query, conn)\n",
    "\n",
    "query = \"\"\"\n",
    "\n",
    "    /* TODO */\n",
    "\n",
    "\"\"\".format(username)\n",
    "df_delays_zurich = pd.read_sql(query, conn)"
   ]
  },
  {
   "cell_type": "code",
   "execution_count": null,
   "metadata": {},
   "outputs": [],
   "source": [
    "# for the heatmap, you probably need to set the index first\n",
    "# df_delays_zurich.set_index(...)"
   ]
  },
  {
   "cell_type": "code",
   "execution_count": null,
   "metadata": {},
   "outputs": [],
   "source": [
    "fig = px.imshow(\n",
    "    df_delays_zurich,\n",
    "    \n",
    "    # TODO\n",
    "    \n",
    ")\n",
    "\n",
    "# TODO: make your figure more readable\n",
    "\n",
    "fig.show()"
   ]
  },
  {
   "cell_type": "markdown",
   "metadata": {},
   "source": [
    "## Part II: Twitter Data (20 Points)\n",
    "\n",
    "Data source: https://archive.org/details/twitterstream?sort=-publicdate \n",
    "\n",
    "In this part, you will leverage Hive to extract the hashtags from the source data, and then perform light exploration of the prepared data. \n",
    "\n",
    "### Dataset Description \n",
    "\n",
    "Format: the dataset is presented as a collection of textfiles containing one JSON document per line. The data is organized in a hierarchy of folders, with one file per minute. The textfiles have been compressed using bzip2. In this part, we will mainly focus on __2020 twitter data__.\n",
    "\n",
    "Location: you can find the data on HDFS at the path `/data/twitter/json/2020/{month}/{day}/{hour}/{minute}.json.bz2`. \n",
    "\n",
    "Relevant fields: \n",
    "- `created_at`, `timestamp_ms`: The first is a human-readable string representation of when the tweet was posted. The latter represents the same instant as a timestamp in seconds since UNIX epoch. \n",
    "- `lang`: the language of the tweet content \n",
    "- `entities`: parsed entities from the tweet, e.g. hashtags, user mentions, URLs.\n",
    "- In this repository, you can find [a tweet example](../data/tweet-example.json)."
   ]
  },
  {
   "cell_type": "markdown",
   "metadata": {},
   "source": [
    "<div style=\"font-size: 100%\" class=\"alert alert-block alert-danger\">\n",
    "    <b>Disclaimer</b>\n",
    "    <br>\n",
    "    This dataset contains unfiltered data from Twitter. As such, you may be exposed to tweets/hashtags containing vulgarities, references to sexual acts, drug usage, etc.\n",
    "    </div>"
   ]
  },
  {
   "cell_type": "markdown",
   "metadata": {},
   "source": [
    "### a) JsonSerDe - 4/20\n",
    "\n",
    "In the exercise of week 4, you have already seen how to use the [SerDe framework](https://cwiki.apache.org/confluence/display/Hive/LanguageManual+DDL#LanguageManualDDL-RowFormats&SerDe) to extract JSON fields from raw text format. \n",
    "\n",
    "In this question, please use SerDe to create an <font color=\"red\" size=\"3px\">EXTERNAL</font> table with __one day__ twitter data. You only need to extract three columns: `timestamp_ms`, `lang` and `entities`(with the field `hashtags` only) with following schema (you need to figure out what to fill in `...`):\n",
    "```\n",
    "timestamp_ms string,\n",
    "lang         string,\n",
    "entities     struct<hashtags:array<...<text:..., indices:...>>>\n",
    "```\n",
    "\n",
    "The table you create should be similar to:\n",
    "\n",
    "| timestamp_ms | lang | entities |\n",
    "|---|---|---|\n",
    "| 1234567890001 | en | {\"hashtags\":[]} |\n",
    "| 1234567890002 | fr | {\"hashtags\":[{\"text\":\"hashtag1\",\"indices\":[10]}]} |\n",
    "| 1234567890002 | jp | {\"hashtags\":[{\"text\":\"hashtag1\",\"indices\":[14,23]}, {\"text\":\"hashtag2\",\"indices\":[45]}]} |\n",
    "\n",
    "__Note:__\n",
    "   - JsonSerDe: https://cwiki.apache.org/confluence/display/Hive/LanguageManual+DDL#LanguageManualDDL-RowFormats&SerDe\n",
    "   - Hive data types: https://cwiki.apache.org/confluence/display/Hive/LanguageManual+Types#LanguageManualTypes"
   ]
  },
  {
   "cell_type": "code",
   "execution_count": null,
   "metadata": {},
   "outputs": [],
   "source": [
    "query=\"\"\"\n",
    "    drop table if exists {0}.hashtags_one_day_intermediary\n",
    "\"\"\".format(username)\n",
    "cur.execute(query)\n",
    "\n",
    "query=\"\"\"\n",
    "    create external table {0}.hashtags_one_day_intermediary(\n",
    "        \n",
    "        /* TODO */\n",
    "    \n",
    "    )\n",
    "    \n",
    "    /* TODO */\n",
    "    \n",
    "\"\"\".format(username)\n",
    "cur.execute(query)\n",
    "\n",
    "query=\"\"\"\n",
    "    select * from {0}.hashtags_one_day_intermediary limit 10\n",
    "\"\"\".format(username)\n",
    "pd.read_sql(query, conn)"
   ]
  },
  {
   "cell_type": "markdown",
   "metadata": {},
   "source": [
    "### b) Explosion - 4/20\n",
    "\n",
    "In a), you create a table where each row could contain a list of multiple hashtags. Create another table by normalizing the table obtained from the previous step. This means that each row should contain exactly one hashtag. Include `timestamp_ms` and `lang` in the resulting table, as shown below.\n",
    "\n",
    "| timestamp_ms | lang | hashtag |\n",
    "|---|---|---|\n",
    "| 1234567890001 | es | hashtag1 |\n",
    "| 1234567890001 | es | hashtag2 |\n",
    "| 1234567890002 | en | hashtag2 |\n",
    "| 1234567890003 | zh | hashtag3 |\n",
    "\n",
    "__Note:__\n",
    "   - `LateralView`: https://cwiki.apache.org/confluence/display/Hive/LanguageManual+LateralView\n",
    "   - `explode` function: <https://cwiki.apache.org/confluence/display/Hive/LanguageManual+UDF#LanguageManualUDF-explode>"
   ]
  },
  {
   "cell_type": "code",
   "execution_count": null,
   "metadata": {},
   "outputs": [],
   "source": [
    "query=\"\"\"\n",
    "    drop table if exists {0}.hashtags_one_day\n",
    "\"\"\".format(username)\n",
    "cur.execute(query)\n",
    "\n",
    "query=\"\"\"\n",
    "    create table if not exists {0}.hashtags_one_day\n",
    "    stored as orc\n",
    "    as\n",
    "        \n",
    "        /* TODO */\n",
    "        \n",
    "\"\"\".format(username)\n",
    "cur.execute(query)\n",
    "\n",
    "query=\"\"\"\n",
    "    select * from {0}.hashtags_one_day limit 10\n",
    "\"\"\".format(username)\n",
    "pd.read_sql(query, conn)"
   ]
  },
  {
   "cell_type": "markdown",
   "metadata": {},
   "source": [
    "### c) Hashtags - 8/20\n",
    "\n",
    "Query the normailized table you obtained in b). Create a table of the top 20 most mentioned hashtags with the contribution of each language. And, for each hashtag, order languages by their contributions. You should have a table similar to:\n",
    "\n",
    "|hashtag|lang|lang_count|total_count|\n",
    "|---|---|---|---|\n",
    "|hashtag_1|en|2000|3500|\n",
    "|hashtag_1|fr|1000|3500|\n",
    "|hashtag_1|jp|500|3500|\n",
    "|hashtag_2|te|500|500|\n",
    "\n",
    "Use `plotly` to create a stacked bar chart to show the results.\n",
    "\n",
    "__Note:__ to properly order the bars, you may need:\n",
    "```python\n",
    "fig.update_layout(xaxis_categoryorder = 'total descending')\n",
    "```"
   ]
  },
  {
   "cell_type": "code",
   "execution_count": null,
   "metadata": {},
   "outputs": [],
   "source": [
    "# You may need more than one query, do not hesitate to create more\n",
    "# query = \"\"\"\n",
    "#\n",
    "#     /* TODO */\n",
    "#\n",
    "# \"\"\"\n",
    "# cur.execute(query, conn)\n",
    "\n",
    "query=\"\"\"\n",
    "    \n",
    "    /* TODO */\n",
    "    \n",
    "\"\"\".format(username)\n",
    "df_hashtag = pd.read_sql(query, conn)"
   ]
  },
  {
   "cell_type": "code",
   "execution_count": null,
   "metadata": {},
   "outputs": [],
   "source": [
    "fig = px.bar(\n",
    "    df_hashtag,\n",
    "    \n",
    "    # TODO\n",
    "\n",
    ")\n",
    "\n",
    "# TODO: make your figure more readable\n",
    "\n",
    "fig.show()"
   ]
  },
  {
   "cell_type": "markdown",
   "metadata": {},
   "source": [
    "### d) HBase - 4/20\n",
    "\n",
    "In the lecture and exercise of week-4, you have learnt what's HBase, how to create an Hbase table and how to create an external Hive table on top of the HBase table. Now, let's try to save the results of question c) into HBase, such that each entry looks like:\n",
    "```\n",
    "(b'PIE', {b'cf1:total_count': b'31415926', b'cf2:langs': b'ja,en,ko,fr'})\n",
    "``` \n",
    "where the key is the hashtag, `total_count` is the total count of the hashtag, and `langs` is a string of language abbreviations concatenated with commas. \n",
    "\n",
    "__Note:__\n",
    "- To accomplish the task, you need to follow these steps:\n",
    "    - Create an Hbase table called `twitter_hbase`, in **your hbase namespace**, with two column families and fields (cf1, cf2)\n",
    "    - Create an external Hive table called `twitter_hive_on_hbase` on top of the Hbase table. \n",
    "    - Populate the HBase table with the results of question c).\n",
    "- You may find function `concat_ws` and `collect_list` useful."
   ]
  },
  {
   "cell_type": "code",
   "execution_count": null,
   "metadata": {},
   "outputs": [],
   "source": [
    "import happybase\n",
    "hbaseaddr = os.environ['HBASE_SERVER']\n",
    "hbase_connection = happybase.Connection(hbaseaddr, transport='framed',protocol='compact')"
   ]
  },
  {
   "cell_type": "code",
   "execution_count": null,
   "metadata": {},
   "outputs": [],
   "source": [
    "# TODO"
   ]
  },
  {
   "cell_type": "markdown",
   "metadata": {},
   "source": [
    "# That's all, folks!"
   ]
  }
 ],
 "metadata": {
  "kernelspec": {
   "display_name": "Python 3",
   "language": "python",
   "name": "python3"
  },
  "language_info": {
   "codemirror_mode": {
    "name": "ipython",
    "version": 3
   },
   "file_extension": ".py",
   "mimetype": "text/x-python",
   "name": "python",
   "nbconvert_exporter": "python",
   "pygments_lexer": "ipython3",
   "version": "3.7.6"
  },
  "toc-autonumbering": false
 },
 "nbformat": 4,
 "nbformat_minor": 4
}
