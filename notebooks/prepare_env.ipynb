{
 "cells": [
  {
   "cell_type": "markdown",
   "metadata": {},
   "source": [
    "# Prepare environment\n",
    "\n",
    "You must prepare your environment __if you have not done so in the previous exercises__ in order to do this homework. Follow the steps below."
   ]
  },
  {
   "cell_type": "markdown",
   "metadata": {},
   "source": [
    "-----\n",
    "1. Run the next cell, and verify that you are logged as you, and not as someone else"
   ]
  },
  {
   "cell_type": "code",
   "execution_count": 24,
   "metadata": {},
   "outputs": [
    {
     "name": "stdout",
     "output_type": "stream",
     "text": [
      "You are machraou\n",
      "You are machraou\n"
     ]
    }
   ],
   "source": [
    "echo \"You are ${HADOOP_USER_NAME:-nobody}\"\n",
    "echo \"You are ${JUPYTERHUB_USER:-nobody}\""
   ]
  },
  {
   "cell_type": "markdown",
   "metadata": {},
   "source": [
    "-----\n",
    "2. Run the code below and verify the existance of your database. Execute step 3 if you have a database.\\\n",
    "Otherwise go to step 6, if it shows an empty list as shown below:\n",
    "\n",
    "```\n",
    "    +-----------------+\n",
    "    |  database_name  |\n",
    "    +-----------------+\n",
    "    +-----------------+\n",
    "```"
   ]
  },
  {
   "cell_type": "code",
   "execution_count": 26,
   "metadata": {},
   "outputs": [
    {
     "name": "stdout",
     "output_type": "stream",
     "text": [
      "SLF4J: Class path contains multiple SLF4J bindings.\n",
      "SLF4J: Found binding in [jar:file:/usr/hdp/current/hive-3.1.0/lib/log4j-slf4j-impl-2.10.0.jar!/org/slf4j/impl/StaticLoggerBinder.class]\n",
      "SLF4J: Found binding in [jar:file:/usr/hdp/current/hadoop-3.1.1/share/hadoop/common/lib/slf4j-log4j12-1.7.25.jar!/org/slf4j/impl/StaticLoggerBinder.class]\n",
      "SLF4J: See http://www.slf4j.org/codes.html#multiple_bindings for an explanation.\n",
      "SLF4J: Actual binding is of type [org.apache.logging.slf4j.Log4jLoggerFactory]\n",
      "Connecting to jdbc:hive2://iccluster064.iccluster.epfl.ch:2181,iccluster065.iccluster.epfl.ch:2181,iccluster040.iccluster.epfl.ch:2181/default;password=SECRET;serviceDiscoveryMode=zooKeeper;user=machraou;zooKeeperNamespace=hiveserver2\n",
      "21/04/10 12:18:04 [main]: INFO jdbc.HiveConnection: Connected to iccluster065.iccluster.epfl.ch:10000\n",
      "Connected to: Apache Hive (version 3.1.0.3.1.4.0-315)\n",
      "Driver: Hive JDBC (version 3.1.0)\n",
      "Transaction isolation: TRANSACTION_REPEATABLE_READ\n",
      "INFO  : Compiling command(queryId=hive_20210410141804_8e50665f-4d1d-4b05-8b7b-712fbef65d69): show databases like 'machraou'\n",
      "INFO  : Semantic Analysis Completed (retrial = false)\n",
      "INFO  : Returning Hive schema: Schema(fieldSchemas:[FieldSchema(name:database_name, type:string, comment:from deserializer)], properties:null)\n",
      "INFO  : Completed compiling command(queryId=hive_20210410141804_8e50665f-4d1d-4b05-8b7b-712fbef65d69); Time taken: 0.002 seconds\n",
      "INFO  : Executing command(queryId=hive_20210410141804_8e50665f-4d1d-4b05-8b7b-712fbef65d69): show databases like 'machraou'\n",
      "INFO  : Starting task [Stage-0:DDL] in serial mode\n",
      "INFO  : Completed executing command(queryId=hive_20210410141804_8e50665f-4d1d-4b05-8b7b-712fbef65d69); Time taken: 0.008 seconds\n",
      "INFO  : OK\n",
      "+----------------+\n",
      "| database_name  |\n",
      "+----------------+\n",
      "+----------------+\n",
      "No rows selected (0.137 seconds)\n",
      "Beeline version 3.1.0 by Apache Hive\n",
      "Closing: 0: jdbc:hive2://iccluster064.iccluster.epfl.ch:2181,iccluster065.iccluster.epfl.ch:2181,iccluster040.iccluster.epfl.ch:2181/default;password=SECRET;serviceDiscoveryMode=zooKeeper;user=machraou;zooKeeperNamespace=hiveserver2\n"
     ]
    }
   ],
   "source": [
    "beeline -n \"${JUPYTERHUB_USER:-nobody}\" -p \"\" -e \"show databases like '${JUPYTERHUB_USER:-nobody}'\""
   ]
  },
  {
   "cell_type": "markdown",
   "metadata": {},
   "source": [
    "-----\n",
    "3. Review the content of your database if you have one."
   ]
  },
  {
   "cell_type": "code",
   "execution_count": 27,
   "metadata": {},
   "outputs": [
    {
     "name": "stdout",
     "output_type": "stream",
     "text": [
      "SLF4J: Class path contains multiple SLF4J bindings.\n",
      "SLF4J: Found binding in [jar:file:/usr/hdp/current/hive-3.1.0/lib/log4j-slf4j-impl-2.10.0.jar!/org/slf4j/impl/StaticLoggerBinder.class]\n",
      "SLF4J: Found binding in [jar:file:/usr/hdp/current/hadoop-3.1.1/share/hadoop/common/lib/slf4j-log4j12-1.7.25.jar!/org/slf4j/impl/StaticLoggerBinder.class]\n",
      "SLF4J: See http://www.slf4j.org/codes.html#multiple_bindings for an explanation.\n",
      "SLF4J: Actual binding is of type [org.apache.logging.slf4j.Log4jLoggerFactory]\n",
      "Connecting to jdbc:hive2://iccluster064.iccluster.epfl.ch:2181,iccluster065.iccluster.epfl.ch:2181,iccluster040.iccluster.epfl.ch:2181/default;password=SECRET;serviceDiscoveryMode=zooKeeper;user=machraou;zooKeeperNamespace=hiveserver2\n",
      "21/04/10 12:18:08 [main]: INFO jdbc.HiveConnection: Connected to iccluster065.iccluster.epfl.ch:10000\n",
      "Connected to: Apache Hive (version 3.1.0.3.1.4.0-315)\n",
      "Driver: Hive JDBC (version 3.1.0)\n",
      "Transaction isolation: TRANSACTION_REPEATABLE_READ\n",
      "Error: Error while compiling statement: FAILED: SemanticException [Error 10072]: Database does not exist: machraou (state=42000,code=10072)\n",
      "Closing: 0: jdbc:hive2://iccluster064.iccluster.epfl.ch:2181,iccluster065.iccluster.epfl.ch:2181,iccluster040.iccluster.epfl.ch:2181/default;password=SECRET;serviceDiscoveryMode=zooKeeper;user=machraou;zooKeeperNamespace=hiveserver2\n"
     ]
    },
    {
     "ename": "",
     "evalue": "1",
     "output_type": "error",
     "traceback": []
    }
   ],
   "source": [
    "beeline -n \"${JUPYTERHUB_USER:-nobody}\" -p \"\" -e \"show tables in ${JUPYTERHUB_USER:-nobody};\""
   ]
  },
  {
   "cell_type": "markdown",
   "metadata": {},
   "source": [
    "-----\n",
    "4. Drop your database after having reviewed its content in step 3, and __you are ok losing its content__."
   ]
  },
  {
   "cell_type": "code",
   "execution_count": 28,
   "metadata": {},
   "outputs": [
    {
     "name": "stdout",
     "output_type": "stream",
     "text": [
      "SLF4J: Class path contains multiple SLF4J bindings.\n",
      "SLF4J: Found binding in [jar:file:/usr/hdp/current/hive-3.1.0/lib/log4j-slf4j-impl-2.10.0.jar!/org/slf4j/impl/StaticLoggerBinder.class]\n",
      "SLF4J: Found binding in [jar:file:/usr/hdp/current/hadoop-3.1.1/share/hadoop/common/lib/slf4j-log4j12-1.7.25.jar!/org/slf4j/impl/StaticLoggerBinder.class]\n",
      "SLF4J: See http://www.slf4j.org/codes.html#multiple_bindings for an explanation.\n",
      "SLF4J: Actual binding is of type [org.apache.logging.slf4j.Log4jLoggerFactory]\n",
      "Connecting to jdbc:hive2://iccluster064.iccluster.epfl.ch:2181,iccluster065.iccluster.epfl.ch:2181,iccluster040.iccluster.epfl.ch:2181/default;password=SECRET;serviceDiscoveryMode=zooKeeper;user=machraou;zooKeeperNamespace=hiveserver2\n",
      "21/04/10 12:18:20 [main]: INFO jdbc.HiveConnection: Connected to iccluster065.iccluster.epfl.ch:10000\n",
      "Connected to: Apache Hive (version 3.1.0.3.1.4.0-315)\n",
      "Driver: Hive JDBC (version 3.1.0)\n",
      "Transaction isolation: TRANSACTION_REPEATABLE_READ\n",
      "INFO  : Compiling command(queryId=hive_20210410141820_7cf59d74-882f-4e9e-becf-01cc24b33537): drop database if exists machraou cascade\n",
      "INFO  : Semantic Analysis Completed (retrial = false)\n",
      "INFO  : Returning Hive schema: Schema(fieldSchemas:null, properties:null)\n",
      "INFO  : Completed compiling command(queryId=hive_20210410141820_7cf59d74-882f-4e9e-becf-01cc24b33537); Time taken: 0.012 seconds\n",
      "INFO  : Executing command(queryId=hive_20210410141820_7cf59d74-882f-4e9e-becf-01cc24b33537): drop database if exists machraou cascade\n",
      "INFO  : Completed executing command(queryId=hive_20210410141820_7cf59d74-882f-4e9e-becf-01cc24b33537); Time taken: 0.008 seconds\n",
      "INFO  : OK\n",
      "No rows affected (0.094 seconds)\n",
      "Beeline version 3.1.0 by Apache Hive\n",
      "Closing: 0: jdbc:hive2://iccluster064.iccluster.epfl.ch:2181,iccluster065.iccluster.epfl.ch:2181,iccluster040.iccluster.epfl.ch:2181/default;password=SECRET;serviceDiscoveryMode=zooKeeper;user=machraou;zooKeeperNamespace=hiveserver2\n"
     ]
    }
   ],
   "source": [
    "beeline -n \"${JUPYTERHUB_USER:-nobody}\" -p \"\" -e \"drop database if exists ${JUPYTERHUB_USER:-nobody} cascade;\""
   ]
  },
  {
   "cell_type": "markdown",
   "metadata": {},
   "source": [
    "-----\n",
    "5. Verify that you the database is gone"
   ]
  },
  {
   "cell_type": "code",
   "execution_count": 29,
   "metadata": {},
   "outputs": [
    {
     "name": "stdout",
     "output_type": "stream",
     "text": [
      "SLF4J: Class path contains multiple SLF4J bindings.\n",
      "SLF4J: Found binding in [jar:file:/usr/hdp/current/hive-3.1.0/lib/log4j-slf4j-impl-2.10.0.jar!/org/slf4j/impl/StaticLoggerBinder.class]\n",
      "SLF4J: Found binding in [jar:file:/usr/hdp/current/hadoop-3.1.1/share/hadoop/common/lib/slf4j-log4j12-1.7.25.jar!/org/slf4j/impl/StaticLoggerBinder.class]\n",
      "SLF4J: See http://www.slf4j.org/codes.html#multiple_bindings for an explanation.\n",
      "SLF4J: Actual binding is of type [org.apache.logging.slf4j.Log4jLoggerFactory]\n",
      "Connecting to jdbc:hive2://iccluster064.iccluster.epfl.ch:2181,iccluster065.iccluster.epfl.ch:2181,iccluster040.iccluster.epfl.ch:2181/default;password=SECRET;serviceDiscoveryMode=zooKeeper;user=machraou;zooKeeperNamespace=hiveserver2\n",
      "21/04/10 12:18:28 [main]: INFO jdbc.HiveConnection: Connected to iccluster065.iccluster.epfl.ch:10000\n",
      "Connected to: Apache Hive (version 3.1.0.3.1.4.0-315)\n",
      "Driver: Hive JDBC (version 3.1.0)\n",
      "Transaction isolation: TRANSACTION_REPEATABLE_READ\n",
      "INFO  : Compiling command(queryId=hive_20210410141828_4d7aa05e-f616-490e-a72d-4996a9327506): show databases like 'machraou'\n",
      "INFO  : Semantic Analysis Completed (retrial = false)\n",
      "INFO  : Returning Hive schema: Schema(fieldSchemas:[FieldSchema(name:database_name, type:string, comment:from deserializer)], properties:null)\n",
      "INFO  : Completed compiling command(queryId=hive_20210410141828_4d7aa05e-f616-490e-a72d-4996a9327506); Time taken: 0.003 seconds\n",
      "INFO  : Executing command(queryId=hive_20210410141828_4d7aa05e-f616-490e-a72d-4996a9327506): show databases like 'machraou'\n",
      "INFO  : Starting task [Stage-0:DDL] in serial mode\n",
      "INFO  : Completed executing command(queryId=hive_20210410141828_4d7aa05e-f616-490e-a72d-4996a9327506); Time taken: 0.014 seconds\n",
      "INFO  : OK\n",
      "+----------------+\n",
      "| database_name  |\n",
      "+----------------+\n",
      "+----------------+\n",
      "No rows selected (0.154 seconds)\n",
      "Beeline version 3.1.0 by Apache Hive\n",
      "Closing: 0: jdbc:hive2://iccluster064.iccluster.epfl.ch:2181,iccluster065.iccluster.epfl.ch:2181,iccluster040.iccluster.epfl.ch:2181/default;password=SECRET;serviceDiscoveryMode=zooKeeper;user=machraou;zooKeeperNamespace=hiveserver2\n"
     ]
    }
   ],
   "source": [
    "beeline -n \"${JUPYTERHUB_USER:-nobody}\" -p \"\" -e \"show databases like '${JUPYTERHUB_USER:-nobody}';\""
   ]
  },
  {
   "cell_type": "markdown",
   "metadata": {},
   "source": [
    "-----\n",
    "6. Run the remaining cells to reconstruct your hive folder and reconfigure ACL permissions on HDFS"
   ]
  },
  {
   "cell_type": "code",
   "execution_count": 30,
   "metadata": {},
   "outputs": [
    {
     "name": "stdout",
     "output_type": "stream",
     "text": [
      "ls: `/user/machraou': No such file or directory\n"
     ]
    },
    {
     "ename": "",
     "evalue": "1",
     "output_type": "error",
     "traceback": []
    }
   ],
   "source": [
    "hdfs dfs -ls /user/${JUPYTERHUB_USER:-nobody}"
   ]
  },
  {
   "cell_type": "code",
   "execution_count": null,
   "metadata": {},
   "outputs": [],
   "source": [
    "hdfs dfs -rm -r -f -skipTrash /user/${JUPYTERHUB_USER:-nobody}/hive\n",
    "hdfs dfs -rm -r -f -skipTrash /user/${usJUPYTERHUB_USER:-nobody}/.Trash"
   ]
  },
  {
   "cell_type": "code",
   "execution_count": null,
   "metadata": {},
   "outputs": [],
   "source": [
    "hdfs dfs -mkdir -p                                /user/${JUPYTERHUB_USER:-nobody}/hive\n",
    "hdfs dfs -setfacl    -m group::r-x                /user/${JUPYTERHUB_USER:-nobody}\n",
    "hdfs dfs -setfacl    -m other::---                /user/${JUPYTERHUB_USER:-nobody}\n",
    "hdfs dfs -setfacl    -m default:group::r-x        /user/${JUPYTERHUB_USER:-nobody}\n",
    "hdfs dfs -setfacl    -m default:other::---        /user/${JUPYTERHUB_USER:-nobody}\n",
    "hdfs dfs -setfacl -R -m group::r-x                /user/${JUPYTERHUB_USER:-nobody}/hive\n",
    "hdfs dfs -setfacl -R -m other::---                /user/${JUPYTERHUB_USER:-nobody}/hive\n",
    "hdfs dfs -setfacl -R -m default:group::r-x        /user/${JUPYTERHUB_USER:-nobody}/hive\n",
    "hdfs dfs -setfacl -R -m default:other::---        /user/${JUPYTERHUB_USER:-nobody}/hive\n",
    "hdfs dfs -setfacl    -m user:hive:rwx             /user/${JUPYTERHUB_USER:-nobody}/hive\n",
    "hdfs dfs -setfacl    -m default:user:hive:rwx     /user/${JUPYTERHUB_USER:-nobody}/hive"
   ]
  },
  {
   "cell_type": "markdown",
   "metadata": {},
   "source": [
    "-----\n",
    "7. Recreate the __external__ tables `sbb_orc` and `sbb_05_11_2018` which you will need in the homework."
   ]
  },
  {
   "cell_type": "code",
   "execution_count": null,
   "metadata": {},
   "outputs": [],
   "source": [
    "beeline -n \"${JUPYTERHUB_USER:-nobody}\" -p \"\" -e \"\n",
    "create database if not exists ${JUPYTERHUB_USER:-nobody} location '/user/${JUPYTERHUB_USER:-nobody}/hive';\n",
    "drop table if exists ${JUPYTERHUB_USER:-nobody}.sbb_orc;\n",
    "create external table ${JUPYTERHUB_USER:-nobody}.sbb_orc(\n",
    "        BETRIEBSTAG string,\n",
    "        FAHRT_BEZEICHNER string,\n",
    "        BETREIBER_ID string,\n",
    "        BETREIBER_ABK string,\n",
    "        BETREIBER_NAME string,\n",
    "        PRODUKT_ID string,\n",
    "        LINIEN_ID string,\n",
    "        LINIEN_TEXT string,\n",
    "        UMLAUF_ID string,\n",
    "        VERKEHRSMITTEL_TEXT string,\n",
    "        ZUSATZFAHRT_TF string,\n",
    "        FAELLT_AUS_TF string,\n",
    "        BPUIC string,\n",
    "        HALTESTELLEN_NAME string,\n",
    "        ANKUNFTSZEIT string,\n",
    "        AN_PROGNOSE string,\n",
    "        AN_PROGNOSE_STATUS string,\n",
    "        ABFAHRTSZEIT string,\n",
    "        AB_PROGNOSE string,\n",
    "        AB_PROGNOSE_STATUS string,\n",
    "        DURCHFAHRT_TF string\n",
    "    )\n",
    "    row format delimited fields terminated by ';'\n",
    "    stored as ORC\n",
    "    location '/data/sbb/orc/istdaten'\n",
    "    tblproperties ('skip.header.line.count'='1');\n",
    "    select count(*) from ${JUPYTERHUB_USER:-nobody}.sbb_orc;\n",
    "    \""
   ]
  },
  {
   "cell_type": "code",
   "execution_count": null,
   "metadata": {},
   "outputs": [],
   "source": [
    "beeline -n \"${JUPYTERHUB_USER:-nobody}\" -p \"\" -e \"   \n",
    "create external table if not exists ${JUPYTERHUB_USER:-nobody}.sbb_05_11_2018\n",
    "    stored as orc\n",
    "    as \n",
    "        select *\n",
    "        from ${JUPYTERHUB_USER:-nobody}.sbb_orc\n",
    "        where BETRIEBSTAG = '05.11.2018'\n",
    "\""
   ]
  },
  {
   "cell_type": "code",
   "execution_count": null,
   "metadata": {},
   "outputs": [],
   "source": []
  }
 ],
 "metadata": {
  "kernelspec": {
   "display_name": "Bash",
   "language": "bash",
   "name": "bash"
  },
  "language_info": {
   "codemirror_mode": "shell",
   "file_extension": ".sh",
   "mimetype": "text/x-sh",
   "name": "bash"
  }
 },
 "nbformat": 4,
 "nbformat_minor": 4
}
